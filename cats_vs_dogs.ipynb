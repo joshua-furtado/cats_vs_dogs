{
 "cells": [
  {
   "cell_type": "markdown",
   "metadata": {},
   "source": [
    "# Cats vs. Dogs\n",
    "\n",
    "Write an algorithm to classify whether images contain either a dog or a cat."
   ]
  },
  {
   "cell_type": "code",
   "execution_count": 6,
   "metadata": {},
   "outputs": [],
   "source": [
    "# Import necessary libraries\n",
    "\n",
    "import os\n",
    "import cv2\n",
    "import numpy as np\n",
    "from tqdm import tqdm"
   ]
  },
  {
   "cell_type": "code",
   "execution_count": 7,
   "metadata": {},
   "outputs": [],
   "source": [
    "# Flag to build data once only. Set to false after first run.\n",
    "\n",
    "REBUILD_DATA = False"
   ]
  },
  {
   "cell_type": "code",
   "execution_count": 10,
   "metadata": {},
   "outputs": [
    {
     "name": "stdout",
     "output_type": "stream",
     "text": [
      "PetImages/Cat\n"
     ]
    },
    {
     "name": "stderr",
     "output_type": "stream",
     "text": [
      "100%|███████████████████████████████████| 12501/12501 [00:42<00:00, 295.70it/s]\n"
     ]
    },
    {
     "name": "stdout",
     "output_type": "stream",
     "text": [
      "PetImages/Dog\n"
     ]
    },
    {
     "name": "stderr",
     "output_type": "stream",
     "text": [
      "100%|███████████████████████████████████| 12501/12501 [00:59<00:00, 210.71it/s]\n"
     ]
    },
    {
     "name": "stdout",
     "output_type": "stream",
     "text": [
      "Cat count: 12476\n",
      "Dog count: 12470\n"
     ]
    }
   ],
   "source": [
    "# Class to build data\n",
    "\n",
    "class CatsVsDogs():\n",
    "    \n",
    "    image_size = 50\n",
    "    cats = \"PetImages/Cat\"\n",
    "    dogs = \"PetImages/Dog\"\n",
    "    labels = {cats: 0, dogs: 1}\n",
    "    training_data = []\n",
    "    \n",
    "    # Ensure no bias in cat and dog image count\n",
    "    cat_count = 0\n",
    "    dog_count = 0\n",
    "    \n",
    "    def build_training_data(self):\n",
    "        for label in self.labels:\n",
    "            print(label)\n",
    "            for f in tqdm(os.listdir(label)):\n",
    "                try:\n",
    "                    path = os.path.join(label, f)\n",
    "                    img = cv2.imread(path, cv2.IMREAD_GRAYSCALE)\n",
    "                    img = cv2.resize(img, (self.image_size, self.image_size))\n",
    "                    self.training_data.append([np.array(img), np.eye(2)[self.labels[label]]])\n",
    "\n",
    "                    if label == self.cats:\n",
    "                        self.cat_count += 1\n",
    "                    else:\n",
    "                        self.dog_count += 1\n",
    "                except:\n",
    "                    pass\n",
    "                \n",
    "        np.random.shuffle(self.training_data)\n",
    "        np.save(\"training_data.npy\", self.training_data)\n",
    "        print(f\"Cat count: {self.cat_count}\")\n",
    "        print(f\"Dog count: {self.dog_count}\")\n",
    "        \n",
    "if REBUILD_DATA:\n",
    "    cats_vs_dogs = CatsVsDogs()\n",
    "    cats_vs_dogs.build_training_data()"
   ]
  },
  {
   "cell_type": "code",
   "execution_count": null,
   "metadata": {},
   "outputs": [],
   "source": []
  }
 ],
 "metadata": {
  "kernelspec": {
   "display_name": "Python 3",
   "language": "python",
   "name": "python3"
  },
  "language_info": {
   "codemirror_mode": {
    "name": "ipython",
    "version": 3
   },
   "file_extension": ".py",
   "mimetype": "text/x-python",
   "name": "python",
   "nbconvert_exporter": "python",
   "pygments_lexer": "ipython3",
   "version": "3.7.3"
  }
 },
 "nbformat": 4,
 "nbformat_minor": 2
}
